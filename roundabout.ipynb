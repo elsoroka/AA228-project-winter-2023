{
 "cells": [
  {
   "cell_type": "code",
   "execution_count": 1,
   "metadata": {},
   "outputs": [],
   "source": [
    "# from https://sisl.github.io/AutomotiveSimulator.jl/dev/tutorials/intersection/\n",
    "using AutomotiveSimulator\n",
    "using AutomotiveVisualization\n",
    "using Random\n",
    "using LinearAlgebra"
   ]
  },
  {
   "cell_type": "code",
   "execution_count": 2,
   "metadata": {},
   "outputs": [
    {
     "data": {
      "image/png": "[encoded data removed]",
      "text/plain": [
       "Cairo.CairoSurfaceIOStream{UInt32}(Ptr{Nothing} @0x0000000002ffc010, 1000.0, 600.0, IOBuffer(data=UInt8[...], readable=true, writable=true, seekable=true, append=false, size=0, maxsize=Inf, ptr=1, mark=-1))"
      ]
     },
     "execution_count": 2,
     "metadata": {},
     "output_type": "execute_result"
    }
   ],
   "source": [
    "include(\"lane_specific_driver.jl\")\n",
    "include(\"make_roundabout.jl\")\n",
    "roadway = make_roundabout()\n",
    "snapshot = render([roadway])"
   ]
  },
  {
   "cell_type": "code",
   "execution_count": 3,
   "metadata": {
    "scrolled": true
   },
   "outputs": [
    {
     "data": {
      "text/plain": [
       "301-element Vector{EntityScene{VehicleState, VehicleDef, Int64}}:\n",
       " Scene{Entity{VehicleState, VehicleDef, Int64}}(3 entities)\n",
       " Scene{Entity{VehicleState, VehicleDef, Int64}}(3 entities)\n",
       " Scene{Entity{VehicleState, VehicleDef, Int64}}(3 entities)\n",
       " Scene{Entity{VehicleState, VehicleDef, Int64}}(3 entities)\n",
       " Scene{Entity{VehicleState, VehicleDef, Int64}}(3 entities)\n",
       " Scene{Entity{VehicleState, VehicleDef, Int64}}(3 entities)\n",
       " Scene{Entity{VehicleState, VehicleDef, Int64}}(3 entities)\n",
       " Scene{Entity{VehicleState, VehicleDef, Int64}}(3 entities)\n",
       " Scene{Entity{VehicleState, VehicleDef, Int64}}(3 entities)\n",
       " Scene{Entity{VehicleState, VehicleDef, Int64}}(3 entities)\n",
       " Scene{Entity{VehicleState, VehicleDef, Int64}}(3 entities)\n",
       " Scene{Entity{VehicleState, VehicleDef, Int64}}(3 entities)\n",
       " Scene{Entity{VehicleState, VehicleDef, Int64}}(3 entities)\n",
       " ⋮\n",
       " Scene{Entity{VehicleState, VehicleDef, Int64}}(3 entities)\n",
       " Scene{Entity{VehicleState, VehicleDef, Int64}}(3 entities)\n",
       " Scene{Entity{VehicleState, VehicleDef, Int64}}(3 entities)\n",
       " Scene{Entity{VehicleState, VehicleDef, Int64}}(3 entities)\n",
       " Scene{Entity{VehicleState, VehicleDef, Int64}}(3 entities)\n",
       " Scene{Entity{VehicleState, VehicleDef, Int64}}(3 entities)\n",
       " Scene{Entity{VehicleState, VehicleDef, Int64}}(3 entities)\n",
       " Scene{Entity{VehicleState, VehicleDef, Int64}}(3 entities)\n",
       " Scene{Entity{VehicleState, VehicleDef, Int64}}(3 entities)\n",
       " Scene{Entity{VehicleState, VehicleDef, Int64}}(3 entities)\n",
       " Scene{Entity{VehicleState, VehicleDef, Int64}}(3 entities)\n",
       " Scene{Entity{VehicleState, VehicleDef, Int64}}(3 entities)"
      ]
     },
     "execution_count": 3,
     "metadata": {},
     "output_type": "execute_result"
    }
   ],
   "source": [
    "#using Reel\n",
    "\n",
    "timestep = 0.1\n",
    "nticks = 300\n",
    "L=30\n",
    "vs0 = VehicleState(VecSE2(-L, r-DEFAULT_LANE_WIDTH/2, 0.0), roadway, 8.0)\n",
    "vs1 = VehicleState(VecSE2(L, r+DEFAULT_LANE_WIDTH/2, π), roadway, 9.0) # desired speed 9.0\n",
    "snail = VehicleState(VecSE2(DEFAULT_LANE_WIDTH/2, -L, 0.5π), roadway, 5.0)\n",
    "\n",
    "\n",
    "scene = Scene([Entity(vs0, VehicleDef(), 1),\n",
    "               Entity(vs1, VehicleDef(), 2),\n",
    "               Entity(snail, VehicleDef(), 3)\n",
    "            ])\n",
    "\n",
    "car_colors = Dict(:UNSAFE => RGB(0.95, 0.1, 0.1),\n",
    "              :SAFE   => RGB(0.1, 0.95, 0.1),\n",
    "              :RL     => RGB(0.6, 0.1, 0.6),)\n",
    "\n",
    "colors = Dict( 1 => car_colors[:UNSAFE],\n",
    "2 => car_colors[:UNSAFE],\n",
    "3 => car_colors[:UNSAFE])\n",
    "\n",
    "models = Dict(1 => InterDriver(LaneSpecificAccelLatLon(0.0,0.0), 0, 10, 10, :ZERO, :SAFE, 1.0),\n",
    "              2 => InterDriver(LaneSpecificAccelLatLon(0.0,0.0), 0, 10, 10, :ZERO, :UNSAFE, 0.5),\n",
    "              3 => InterDriver(LaneSpecificAccelLatLon(0.0,0.0), 0, 10, 10, :ZERO, :SAFE, 0.5),\n",
    "             )\n",
    "\n",
    "\n",
    "scenes = simulate(scene, roadway, models, nticks, timestep)\n",
    "#snapshot = render(renderables)"
   ]
  },
  {
   "cell_type": "code",
   "execution_count": 4,
   "metadata": {},
   "outputs": [
    {
     "data": {
      "application/vnd.webio.node+json": {
       "children": [],
       "instanceArgs": {
        "namespace": "html",
        "tag": "div"
       },
       "nodeType": "DOM",
       "props": {},
       "type": "node"
      },
      "text/html": [
       "<div style=\"padding: 1em; background-color: #f8d6da; border: 1px solid #f5c6cb; font-weight: bold;\">\n",
       "<p>The WebIO Jupyter extension was not detected. See the\n",
       "<a href=\"https://juliagizmos.github.io/WebIO.jl/latest/providers/ijulia/\" target=\"_blank\">\n",
       "    WebIO Jupyter integration documentation\n",
       "</a>\n",
       "for more information.\n",
       "</div>\n"
      ],
      "text/plain": [
       "WebIO._IJuliaInit()"
      ]
     },
     "metadata": {
      "application/vnd.webio.node+json": {
       "kernelId": "742bee94-cafa-49d8-bb7e-956ac24a2a0a"
      }
     },
     "output_type": "display_data"
    },
    {
     "data": {
      "text/plain": [
       "Page(1, WebSocket(server, \u001b[32mCONNECTED\u001b[39m), Dict{String, Any}(\"webio\" => Blink.AtomShell.var\"#22#23\"{Blink.AtomShell.WebIOBlinkComm}(Blink.AtomShell.WebIOBlinkComm(Window(1, Electron(Process(`\u001b[4m/home/esoroka/.julia/packages/Blink/mwJC9/deps/atom/electron\u001b[24m \u001b[4m/home/esoroka/.julia/packages/Blink/mwJC9/src/AtomShell/main.js\u001b[24m \u001b[4mport\u001b[24m \u001b[4m3587\u001b[24m`, ProcessRunning), Sockets.TCPSocket(RawFD(50) active, 0 bytes waiting), Dict{String, Any}(\"callback\" => Blink.var\"#1#2\"())), Page(#= circular reference @-5 =#), Task (done) @0x00007efc77596230))), \"callback\" => Blink.var\"#1#2\"()), Distributed.Future(1, 1, 1, Some(true)))"
      ]
     },
     "execution_count": 4,
     "metadata": {},
     "output_type": "execute_result"
    }
   ],
   "source": [
    "using Interact\n",
    "using Reel\n",
    "using Blink\n",
    "#md\n",
    "w = Window()\n",
    "viz = @manipulate for step in 1 : length(scenes)\n",
    "    render([roadway, scenes[step]])\n",
    "end\n",
    "body!(w, viz)"
   ]
  },
  {
   "cell_type": "code",
   "execution_count": 5,
   "metadata": {},
   "outputs": [],
   "source": [
    "#=\n",
    "#md\n",
    "w = Window()\n",
    "viz = @manipulate for i = 1 : length(scenes)\n",
    "    renderables = [\n",
    "    roadway,\n",
    "    (FancyCar(car=veh, color=colors[veh.id]) for veh in scenes[i])...\n",
    "    ]\n",
    "    render(renderables)\n",
    "end\n",
    "body!(w, viz)\n",
    "=#"
   ]
  },
  {
   "cell_type": "code",
   "execution_count": null,
   "metadata": {},
   "outputs": [],
   "source": []
  }
 ],
 "metadata": {
  "@webio": {
   "lastCommId": "b9df817bc9b942349f39b9283c7dcc34",
   "lastKernelId": "742bee94-cafa-49d8-bb7e-956ac24a2a0a"
  },
  "kernelspec": {
   "display_name": "Julia 1.6.0",
   "language": "julia",
   "name": "julia-1.6"
  },
  "language_info": {
   "file_extension": ".jl",
   "mimetype": "application/julia",
   "name": "julia",
   "version": "1.6.0"
  }
 },
 "nbformat": 4,
 "nbformat_minor": 2
}
